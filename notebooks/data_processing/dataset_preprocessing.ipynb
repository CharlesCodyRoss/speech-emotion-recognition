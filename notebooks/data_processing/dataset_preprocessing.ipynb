{
 "cells": [
  {
   "cell_type": "markdown",
   "id": "bba3c02b",
   "metadata": {},
   "source": [
    "# Speech Emotion Recognition"
   ]
  },
  {
   "cell_type": "markdown",
   "id": "13080863",
   "metadata": {},
   "source": [
    "## Dataset Preprocessing\n"
   ]
  },
  {
   "cell_type": "markdown",
   "id": "eb5e19aa",
   "metadata": {},
   "source": [
    "Emotions:\n",
    "\n",
    "    1 = neutral\n",
    "    2 = calm\n",
    "    3 = happy\n",
    "    4 = sad\n",
    "    5 = angry\n",
    "    6 = fear\n",
    "    7 = disgust\n",
    "    8 = surprised\n",
    "\n",
    "Actor_gender:\n",
    "\n",
    "    1 = male\n",
    "    0 = female"
   ]
  },
  {
   "cell_type": "markdown",
   "id": "9c1b897e",
   "metadata": {},
   "source": [
    "### RAVDESS dataset"
   ]
  },
  {
   "cell_type": "markdown",
   "id": "55aa9c88",
   "metadata": {},
   "source": [
    "**Filename example: 03-01-06-01-02-01-12.wav**\n",
    "\n",
    "Audio-only (03)\n",
    "\n",
    "Speech (01)\n",
    "\n",
    "Fearful (06)\n",
    "\n",
    "Normal intensity (01)\n",
    "\n",
    "Statement \"dogs\" (02)\n",
    "\n",
    "1st Repetition (01)\n",
    "\n",
    "12th Actor (12) --> 0 = famale, as the actor ID number is even."
   ]
  },
  {
   "cell_type": "markdown",
   "id": "cba0885b",
   "metadata": {},
   "source": [
    "**Filename identifiers**\n",
    "\n",
    "-Modality (01 = full-AV, 02 = video-only, 03 = audio-only).\n",
    "\n",
    "-Vocal channel (01 = speech, 02 = song).\n",
    "\n",
    "-Emotion (01 = neutral, 02 = calm, 03 = happy, 04 = sad, 05 = angry, 06 = fearful, 07 = disgust, 08 = surprised).\n",
    "\n",
    "-Emotional intensity (01 = normal, 02 = strong). NOTE: There is no strong intensity for the 'neutral' emotion.\n",
    "\n",
    "-Statement (01 = \"Kids are talking by the door\", 02 = \"Dogs are sitting by the door\").\n",
    "\n",
    "-Repetition (01 = 1st repetition, 02 = 2nd repetition).\n",
    "\n",
    "-Actor (01 to 24. Odd numbered actors are male, even numbered actors are female).\n",
    "    --> Actor_gender(1 = male ( Odd numbered ), 0 = female (even numbered))"
   ]
  },
  {
   "cell_type": "code",
   "execution_count": 1,
   "id": "13bbaad3",
   "metadata": {},
   "outputs": [],
   "source": [
    "import os\n",
    "import glob\n",
    "import pandas as pd"
   ]
  },
  {
   "cell_type": "code",
   "execution_count": 2,
   "id": "48894cef",
   "metadata": {},
   "outputs": [],
   "source": [
    "global_path = '/home/eolivio/code/eolivio/speech-emotion-recognition'"
   ]
  },
  {
   "cell_type": "code",
   "execution_count": 3,
   "id": "e64630b8",
   "metadata": {},
   "outputs": [],
   "source": [
    "#path to ravdess data\n",
    "ravdess_path = global_path + '/raw_data/Ravdess/Actor_*/*.wav'"
   ]
  },
  {
   "cell_type": "code",
   "execution_count": 4,
   "id": "4333c07e",
   "metadata": {},
   "outputs": [],
   "source": [
    "def ravdess_df():\n",
    "    \"\"\"Create a data frame from Ravdess dataset\"\"\"\n",
    "\n",
    "    file_id = []\n",
    "    emotions = []\n",
    "    actor_gender = []\n",
    "\n",
    "    for file in glob.glob(ravdess_path):\n",
    "\n",
    "        file_name = os.path.basename(file)\n",
    "        \n",
    "        file_id.append(str(file_name))\n",
    "\n",
    "        emotions.append(int(file_name.split(\"-\")[2]))\n",
    "\n",
    "        actor = int(file_name.split(\"-\")[6].split(\".\")[0])\n",
    "        if actor % 2 == 0:         \n",
    "            actor_gender.append(0) \n",
    "        else: \n",
    "            actor_gender.append(1)    \n",
    "\n",
    "    ravdess_dict = {'file_id':file_id, 'emotions':emotions, 'actor_gender': actor_gender}\n",
    "    \n",
    "       \n",
    "    return pd.DataFrame(ravdess_dict)"
   ]
  },
  {
   "cell_type": "code",
   "execution_count": 5,
   "id": "7b0c38af",
   "metadata": {},
   "outputs": [
    {
     "data": {
      "text/html": [
       "<div>\n",
       "<style scoped>\n",
       "    .dataframe tbody tr th:only-of-type {\n",
       "        vertical-align: middle;\n",
       "    }\n",
       "\n",
       "    .dataframe tbody tr th {\n",
       "        vertical-align: top;\n",
       "    }\n",
       "\n",
       "    .dataframe thead th {\n",
       "        text-align: right;\n",
       "    }\n",
       "</style>\n",
       "<table border=\"1\" class=\"dataframe\">\n",
       "  <thead>\n",
       "    <tr style=\"text-align: right;\">\n",
       "      <th></th>\n",
       "      <th>file_id</th>\n",
       "      <th>emotions</th>\n",
       "      <th>actor_gender</th>\n",
       "    </tr>\n",
       "  </thead>\n",
       "  <tbody>\n",
       "  </tbody>\n",
       "</table>\n",
       "</div>"
      ],
      "text/plain": [
       "Empty DataFrame\n",
       "Columns: [file_id, emotions, actor_gender]\n",
       "Index: []"
      ]
     },
     "execution_count": 5,
     "metadata": {},
     "output_type": "execute_result"
    }
   ],
   "source": [
    "ravdess_df = ravdess_df()\n",
    "ravdess_df"
   ]
  },
  {
   "cell_type": "code",
   "execution_count": 6,
   "id": "f2a9064f",
   "metadata": {
    "scrolled": true
   },
   "outputs": [
    {
     "data": {
      "image/png": "[encoded data removed]",
      "text/plain": [
       "<Figure size 900x200 with 4 Axes>"
      ]
     },
     "metadata": {},
     "output_type": "display_data"
    }
   ],
   "source": [
    "ravdess_df.hist(bins=20, figsize=(9, 2));"
   ]
  },
  {
   "cell_type": "markdown",
   "id": "94bb4582",
   "metadata": {},
   "source": [
    "### TESS dataset"
   ]
  },
  {
   "cell_type": "markdown",
   "id": "06c56ce4",
   "metadata": {},
   "source": [
    "**Filename example: OAF_back_fear**\n",
    "\n",
    "Actor age = 64 Female (OAF)\n",
    "\n",
    "Statement = 'back'\n",
    "\n",
    "Emotion = feat (6)"
   ]
  },
  {
   "cell_type": "markdown",
   "id": "34bf022f",
   "metadata": {},
   "source": [
    "**Filename identifiers**\n",
    "\n",
    "-Actor_age (OAF = Older actor (64 years old), YAF = Younger actor (26 years old)). Both Female = 0\n",
    "\n",
    "-Words (200 of these)\n",
    "\n",
    "-Emotion ('angry' : 5, 'disgust' : 7, 'fear' = 6, 'neutral' = 1, 'positive surprise' = 8, 'sad'= 4)."
   ]
  },
  {
   "cell_type": "code",
   "execution_count": 7,
   "id": "d3b24f5a",
   "metadata": {},
   "outputs": [],
   "source": [
    "#path to tess data\n",
    "tess_path = global_path + '/raw_data/Tess/*/*.wav'"
   ]
  },
  {
   "cell_type": "code",
   "execution_count": 8,
   "id": "0769e471",
   "metadata": {},
   "outputs": [],
   "source": [
    "def tess_df():\n",
    "    \"\"\"Create a data frame from Tess dataset\"\"\"\n",
    "\n",
    "    file_id = []\n",
    "    emotions = []\n",
    "    actor_gender = []\n",
    "\n",
    "    for file in glob.glob(tess_path):\n",
    "        \n",
    "        file_name = os.path.basename(file)\n",
    "                       \n",
    "        file_id.append(str(file_name))\n",
    "        \n",
    "        emotions.append(file_name.split(\"_\")[2].split('.')[0])\n",
    "\n",
    "        actor_gender.append(0)\n",
    "    \n",
    "    emotions_code = []\n",
    "    for i in emotions:\n",
    "        if i == 'angry':\n",
    "            emotions_code.append(5)\n",
    "        elif i == 'disgust':\n",
    "            emotions_code.append(7)\n",
    "        elif i == 'fear':\n",
    "            emotions_code.append(6)\n",
    "        elif i == 'neutral':\n",
    "            emotions_code.append(1)\n",
    "        elif i == 'ps':\n",
    "            emotions_code.append(8)\n",
    "        elif i == 'sad':\n",
    "            emotions_code.append(4)\n",
    "        elif i == 'happy':\n",
    "            emotions_code.append(3)\n",
    "            \n",
    "    tess_dict = {'file_id':file_id, 'emotions':emotions_code, 'actor_gender': actor_gender}\n",
    "           \n",
    "    return pd.DataFrame(tess_dict)"
   ]
  },
  {
   "cell_type": "code",
   "execution_count": 9,
   "id": "abb7e716",
   "metadata": {},
   "outputs": [
    {
     "data": {
      "text/html": [
       "<div>\n",
       "<style scoped>\n",
       "    .dataframe tbody tr th:only-of-type {\n",
       "        vertical-align: middle;\n",
       "    }\n",
       "\n",
       "    .dataframe tbody tr th {\n",
       "        vertical-align: top;\n",
       "    }\n",
       "\n",
       "    .dataframe thead th {\n",
       "        text-align: right;\n",
       "    }\n",
       "</style>\n",
       "<table border=\"1\" class=\"dataframe\">\n",
       "  <thead>\n",
       "    <tr style=\"text-align: right;\">\n",
       "      <th></th>\n",
       "      <th>file_id</th>\n",
       "      <th>emotions</th>\n",
       "      <th>actor_gender</th>\n",
       "    </tr>\n",
       "  </thead>\n",
       "  <tbody>\n",
       "  </tbody>\n",
       "</table>\n",
       "</div>"
      ],
      "text/plain": [
       "Empty DataFrame\n",
       "Columns: [file_id, emotions, actor_gender]\n",
       "Index: []"
      ]
     },
     "execution_count": 9,
     "metadata": {},
     "output_type": "execute_result"
    }
   ],
   "source": [
    "tess_df = tess_df()\n",
    "tess_df"
   ]
  },
  {
   "cell_type": "code",
   "execution_count": 10,
   "id": "fcc5a09b",
   "metadata": {},
   "outputs": [
    {
     "data": {
      "image/png": "[encoded data removed]",
      "text/plain": [
       "<Figure size 900x200 with 4 Axes>"
      ]
     },
     "metadata": {},
     "output_type": "display_data"
    }
   ],
   "source": [
    "tess_df.hist(bins=20, figsize=(9, 2));"
   ]
  },
  {
   "cell_type": "markdown",
   "id": "460bdb02",
   "metadata": {},
   "source": [
    "### Crema dataset"
   ]
  },
  {
   "cell_type": "markdown",
   "id": "0285dd3c",
   "metadata": {},
   "source": [
    "**Filename example: 1001_IEO_HAP_LO**\n",
    "\n",
    "ActorID = 1001\n",
    "\n",
    "Statement = 'It's eleven o'clock' (IEO)\n",
    "\n",
    "Emotion = Happy (HAP)\n",
    "\n",
    "Emotion level = low (LO)"
   ]
  },
  {
   "cell_type": "markdown",
   "id": "885ee8ff",
   "metadata": {},
   "source": [
    "**Filename identifiers:**\n",
    "    \n",
    "ActorID =  Identifies the actor.\n",
    "\n",
    "Actors spoke from a selection of 12 sentences :\n",
    "\n",
    "    It's eleven o'clock (IEO).\n",
    "    That is exactly what happened (TIE).\n",
    "    I'm on my way to the meeting (IOM).\n",
    "    I wonder what this is about (IWW).\n",
    "    The airplane is almost full (TAI).\n",
    "    Maybe tomorrow it will be cold (MTI).\n",
    "    I would like a new alarm clock (IWL)\n",
    "    I think I have a doctor's appointment (ITH).\n",
    "    Don't forget a jacket (DFA).\n",
    "    I think I've seen this before (ITS).\n",
    "    The surface is slick (TSI).\n",
    "    We'll stop in a couple of minutes (WSI).\n",
    "\n",
    "Emotions:\n",
    "\n",
    "    Anger (ANG) - 5\n",
    "    Disgust (DIS) - 7\n",
    "    Fear (FEA) - 6\n",
    "    Happy/Joy (HAP) - 3\n",
    "    Neutral (NEU) - 1\n",
    "    Sad (SAD) - 4\n",
    "\n",
    "Emotion level:\n",
    "\n",
    "    Low (LO)\n",
    "    Medium (MD)\n",
    "    High (HI)\n",
    "    Unspecified (XX)\n"
   ]
  },
  {
   "cell_type": "code",
   "execution_count": 11,
   "id": "60abd5aa",
   "metadata": {},
   "outputs": [],
   "source": [
    "#path to crema data\n",
    "crema_path = global_path + '/raw_data/Crema/*.wav'"
   ]
  },
  {
   "cell_type": "code",
   "execution_count": 12,
   "id": "c6ea90a2",
   "metadata": {},
   "outputs": [],
   "source": [
    "def crema_df():\n",
    "    \"\"\"Create a data frame from Tess dataset\"\"\"\n",
    "\n",
    "    file_id = []\n",
    "    emotions = []\n",
    "    actor_gender = []\n",
    "    \n",
    "    female = [1002,1003,1004,1006,1007,1008,1009,1010,1012,1013,1018,1020,1021,1024,1025,1028,1029,1030,1037,1043,1046,1047,1049,\n",
    "          1052,1053,1054,1055,1056,1058,1060,1061,1063,1072,1073,1074,1075,1076,1078,1079,1082,1084,1089,1091]\n",
    "    \n",
    "    for file in glob.glob(crema_path):\n",
    "        \n",
    "        file_name = os.path.basename(file)\n",
    "                               \n",
    "        file_id.append(str(file_name))\n",
    "        \n",
    "        emotions.append(file_name.split(\"_\")[2])\n",
    "\n",
    "        if int(file_name.split(\"_\")[0]) in female:\n",
    "            actor_gender.append(0)\n",
    "        else:\n",
    "            actor_gender.append(1)\n",
    "        \n",
    "    \n",
    "    emotions_code = []\n",
    "    for i in emotions:\n",
    "        if i == 'ANG':\n",
    "            emotions_code.append(5)\n",
    "        elif i == 'DIS':\n",
    "            emotions_code.append(7)\n",
    "        elif i == 'FEA':\n",
    "            emotions_code.append(6)\n",
    "        elif i == 'NEU':\n",
    "            emotions_code.append(1)\n",
    "        elif i == 'HAP':\n",
    "            emotions_code.append(3)\n",
    "        elif i == 'SAD':\n",
    "            emotions_code.append(4)\n",
    "       \n",
    "    crema_dict = {'file_id':file_id, 'emotions':emotions_code, 'actor_gender': actor_gender}\n",
    "           \n",
    "    return pd.DataFrame(crema_dict)"
   ]
  },
  {
   "cell_type": "code",
   "execution_count": 13,
   "id": "5aa62ec3",
   "metadata": {},
   "outputs": [
    {
     "data": {
      "text/html": [
       "<div>\n",
       "<style scoped>\n",
       "    .dataframe tbody tr th:only-of-type {\n",
       "        vertical-align: middle;\n",
       "    }\n",
       "\n",
       "    .dataframe tbody tr th {\n",
       "        vertical-align: top;\n",
       "    }\n",
       "\n",
       "    .dataframe thead th {\n",
       "        text-align: right;\n",
       "    }\n",
       "</style>\n",
       "<table border=\"1\" class=\"dataframe\">\n",
       "  <thead>\n",
       "    <tr style=\"text-align: right;\">\n",
       "      <th></th>\n",
       "      <th>file_id</th>\n",
       "      <th>emotions</th>\n",
       "      <th>actor_gender</th>\n",
       "    </tr>\n",
       "  </thead>\n",
       "  <tbody>\n",
       "  </tbody>\n",
       "</table>\n",
       "</div>"
      ],
      "text/plain": [
       "Empty DataFrame\n",
       "Columns: [file_id, emotions, actor_gender]\n",
       "Index: []"
      ]
     },
     "execution_count": 13,
     "metadata": {},
     "output_type": "execute_result"
    }
   ],
   "source": [
    "crema_df = crema_df()\n",
    "crema_df"
   ]
  },
  {
   "cell_type": "code",
   "execution_count": 14,
   "id": "77d68fe1",
   "metadata": {},
   "outputs": [
    {
     "data": {
      "image/png": "[encoded data removed]",
      "text/plain": [
       "<Figure size 900x200 with 4 Axes>"
      ]
     },
     "metadata": {},
     "output_type": "display_data"
    }
   ],
   "source": [
    "crema_df.hist(bins=20, figsize=(9, 2));"
   ]
  },
  {
   "cell_type": "markdown",
   "id": "c890a4a9",
   "metadata": {},
   "source": [
    "### Savee dataset"
   ]
  },
  {
   "cell_type": "markdown",
   "id": "c3df7f60",
   "metadata": {},
   "source": [
    "**Filename example: DC_a01.wav**\n",
    "\n",
    "PersonID = DC \n",
    "\n",
    "Emotion = Anger (a)\n",
    "\n",
    "Number of sentence = 01 (15 per person)\n"
   ]
  },
  {
   "cell_type": "markdown",
   "id": "3e3dfd9a",
   "metadata": {},
   "source": [
    "**Filename identifiers:**\n",
    "    \n",
    "PersonID =  (DC, JE, JK, KL) -- > Actor_gender = 1 (all males)\n",
    "\n",
    "Emotions:\n",
    "\n",
    "    Anger(a) - 5\n",
    "    Disgust(d) - 7\n",
    "    Fear(f) - 6\n",
    "    Happiness(h) - 3\n",
    "    Sadness(sa) - 4\n",
    "    Surprise(su) - 8\n",
    "    Neutral(n) - 1"
   ]
  },
  {
   "cell_type": "code",
   "execution_count": 15,
   "id": "ff2db398",
   "metadata": {},
   "outputs": [],
   "source": [
    "#path to Savee data\n",
    "savee_path = global_path + '/raw_data/Savee/*.wav'"
   ]
  },
  {
   "cell_type": "code",
   "execution_count": 16,
   "id": "809f0309",
   "metadata": {},
   "outputs": [],
   "source": [
    "def savee_df():\n",
    "    \"\"\"Create a data frame from Tess dataset\"\"\"\n",
    "\n",
    "    file_id = []\n",
    "    emotions = []\n",
    "    actor_gender = []\n",
    "\n",
    "    for file in glob.glob(savee_path):\n",
    "        \n",
    "        file_name = os.path.basename(file)\n",
    "                               \n",
    "        file_id.append(str(file_name))\n",
    "        \n",
    "        actor_gender.append(1)\n",
    "        \n",
    "        if file_name.split('_')[-1].split('.')[0][0] == 's':\n",
    "            emotions.append(file_name.split('_')[-1].split('.')[0][:2])\n",
    "        else:\n",
    "            emotions.append(file_name.split('_')[-1].split('.')[0][0])\n",
    "                \n",
    "    \n",
    "    emotions_code = []\n",
    "    for i in emotions:\n",
    "        if i == 'a':\n",
    "            emotions_code.append(5)\n",
    "        elif i == 'd':\n",
    "            emotions_code.append(7)\n",
    "        elif i == 'f':\n",
    "            emotions_code.append(6)\n",
    "        elif i == 'n':\n",
    "            emotions_code.append(1)\n",
    "        elif i == 'h':\n",
    "            emotions_code.append(3)\n",
    "        elif i == 'sa':\n",
    "            emotions_code.append(4)\n",
    "        elif i == 'su':\n",
    "            emotions_code.append(8)\n",
    "       \n",
    "    savee_dict = {'file_id':file_id, 'emotions':emotions_code, 'actor_gender': actor_gender}\n",
    "      \n",
    "    return pd.DataFrame(savee_dict)"
   ]
  },
  {
   "cell_type": "code",
   "execution_count": 17,
   "id": "9321e575",
   "metadata": {
    "scrolled": false
   },
   "outputs": [
    {
     "data": {
      "text/html": [
       "<div>\n",
       "<style scoped>\n",
       "    .dataframe tbody tr th:only-of-type {\n",
       "        vertical-align: middle;\n",
       "    }\n",
       "\n",
       "    .dataframe tbody tr th {\n",
       "        vertical-align: top;\n",
       "    }\n",
       "\n",
       "    .dataframe thead th {\n",
       "        text-align: right;\n",
       "    }\n",
       "</style>\n",
       "<table border=\"1\" class=\"dataframe\">\n",
       "  <thead>\n",
       "    <tr style=\"text-align: right;\">\n",
       "      <th></th>\n",
       "      <th>file_id</th>\n",
       "      <th>emotions</th>\n",
       "      <th>actor_gender</th>\n",
       "    </tr>\n",
       "  </thead>\n",
       "  <tbody>\n",
       "  </tbody>\n",
       "</table>\n",
       "</div>"
      ],
      "text/plain": [
       "Empty DataFrame\n",
       "Columns: [file_id, emotions, actor_gender]\n",
       "Index: []"
      ]
     },
     "execution_count": 17,
     "metadata": {},
     "output_type": "execute_result"
    }
   ],
   "source": [
    "savee_df = savee_df()\n",
    "savee_df"
   ]
  },
  {
   "cell_type": "code",
   "execution_count": 18,
   "id": "fba3b209",
   "metadata": {},
   "outputs": [
    {
     "data": {
      "image/png": "[encoded data removed]",
      "text/plain": [
       "<Figure size 900x200 with 4 Axes>"
      ]
     },
     "metadata": {},
     "output_type": "display_data"
    }
   ],
   "source": [
    "savee_df.hist(bins=20, figsize=(9, 2));"
   ]
  }
 ],
 "metadata": {
  "kernelspec": {
   "display_name": "Python 3 (ipykernel)",
   "language": "python",
   "name": "python3"
  },
  "language_info": {
   "codemirror_mode": {
    "name": "ipython",
    "version": 3
   },
   "file_extension": ".py",
   "mimetype": "text/x-python",
   "name": "python",
   "nbconvert_exporter": "python",
   "pygments_lexer": "ipython3",
   "version": "3.8.12"
  },
  "toc": {
   "base_numbering": 1,
   "nav_menu": {},
   "number_sections": true,
   "sideBar": true,
   "skip_h1_title": false,
   "title_cell": "Table of Contents",
   "title_sidebar": "Contents",
   "toc_cell": false,
   "toc_position": {},
   "toc_section_display": true,
   "toc_window_display": false
  },
  "vscode": {
   "interpreter": {
    "hash": "cf28daec0c04e98a22431562878562f542d7f507ceb3e04a124b42b0257b01d2"
   }
  }
 },
 "nbformat": 4,
 "nbformat_minor": 5
}
